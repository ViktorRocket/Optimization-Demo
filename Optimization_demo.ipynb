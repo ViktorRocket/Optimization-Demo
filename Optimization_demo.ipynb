{
 "cells": [
  {
   "cell_type": "markdown",
   "id": "08ef4076",
   "metadata": {},
   "source": [
    "# Optimization Demo\n",
    "Many courses about data science claim that they can teach it without calculus. Then they spend the next hour talking about calculus concepts. I hope, I found a better way to show these concepts. For simplicity, everything was done in Python.  \n",
    "\n",
    "Here I made a script that tries to approximate the image by semi-randomly placing black and white lines. It can be useful to show how \"small steps\" converge into the original image. "
   ]
  },
  {
   "cell_type": "code",
   "execution_count": 6,
   "id": "575dd9cc",
   "metadata": {},
   "outputs": [],
   "source": [
    "import numpy as np\n",
    "from PIL import Image, ImageDraw\n",
    "from random import random\n",
    "from matplotlib import cm\n",
    "from tqdm import tqdm\n",
    "from random import randint\n",
    "import math"
   ]
  },
  {
   "cell_type": "markdown",
   "id": "9978ac7a",
   "metadata": {},
   "source": [
    "Downloading and showing inpute image. It is better to use black and white pictures, they converge better."
   ]
  },
  {
   "cell_type": "code",
   "execution_count": 7,
   "id": "c4002c2c",
   "metadata": {},
   "outputs": [],
   "source": [
    "Source_image_dir = r'nike_logo.jpg'\n",
    "with Image.open(Source_image_dir).convert('RGB') as img:\n",
    "    Target_image = np.array(img)"
   ]
  },
  {
   "cell_type": "code",
   "execution_count": 8,
   "id": "9c3747ff",
   "metadata": {
    "scrolled": false
   },
   "outputs": [
    {
     "data": {
      "image/png": "[encoded data removed]",
      "text/plain": [
       "<PIL.Image.Image image mode=RGB size=450x200 at 0x2C379F69E80>"
      ]
     },
     "execution_count": 8,
     "metadata": {},
     "output_type": "execute_result"
    }
   ],
   "source": [
    "Image.fromarray(np.uint8(Target_image))"
   ]
  },
  {
   "cell_type": "code",
   "execution_count": 9,
   "id": "c813bedb",
   "metadata": {},
   "outputs": [
    {
     "data": {
      "text/plain": [
       "(450, 200)"
      ]
     },
     "execution_count": 9,
     "metadata": {},
     "output_type": "execute_result"
    }
   ],
   "source": [
    "result_image = Image.new('RGB', (Target_image.shape[1], Target_image.shape[0]))\n",
    "image_wight, image_height = Target_image.shape[1], Target_image.shape[0]\n",
    "image_wight, image_height"
   ]
  },
  {
   "cell_type": "markdown",
   "id": "49e6765e",
   "metadata": {},
   "source": [
    "Here is a image wher changes would be applied."
   ]
  },
  {
   "cell_type": "code",
   "execution_count": 10,
   "id": "9b03238d",
   "metadata": {
    "scrolled": true
   },
   "outputs": [
    {
     "data": {
      "image/png": "[encoded data removed]",
      "text/plain": [
       "<PIL.Image.Image image mode=RGB size=450x200 at 0x2C37972BDF0>"
      ]
     },
     "execution_count": 10,
     "metadata": {},
     "output_type": "execute_result"
    }
   ],
   "source": [
    "result_image"
   ]
  },
  {
   "cell_type": "markdown",
   "id": "fb72ea53",
   "metadata": {},
   "source": [
    "For simplicity, I used sqare loss."
   ]
  },
  {
   "cell_type": "code",
   "execution_count": 11,
   "id": "8b282de1",
   "metadata": {},
   "outputs": [
    {
     "data": {
      "text/plain": [
       "952923"
      ]
     },
     "execution_count": 11,
     "metadata": {},
     "output_type": "execute_result"
    }
   ],
   "source": [
    "np.sum( (Target_image - result_image)**2 )"
   ]
  },
  {
   "cell_type": "markdown",
   "id": "27eb3ac3",
   "metadata": {},
   "source": [
    "Main function which randomly places lines."
   ]
  },
  {
   "cell_type": "code",
   "execution_count": 12,
   "id": "3c31e1a1",
   "metadata": {},
   "outputs": [],
   "source": [
    "def draw_random_line(result_image,image_wight, image_height):\n",
    "    tmp_image = result_image.copy()\n",
    "    tmp_draw = ImageDraw.Draw(tmp_image)\n",
    "    line_start_x, line_start_y = image_wight * random(), image_height*random()\n",
    "    \n",
    "    angle = 2*math.pi*random()\n",
    "    \n",
    "    line_end_x, line_end_y = line_start_x + 100*math.cos(angle), line_start_y + 100*math.sin(angle)\n",
    "    if random() > 0.5:\n",
    "        tmp_draw.line([ (line_start_x, line_start_y), (line_end_x, line_end_y) ],\n",
    "                      fill=(255,255,255), width= int(5*random()))\n",
    "    else:\n",
    "        tmp_draw.line([ (line_start_x, line_start_y), (line_end_x, line_end_y) ],\n",
    "                      fill=(0,0,0), width= int(5*random()))\n",
    "    return tmp_draw._image"
   ]
  },
  {
   "cell_type": "markdown",
   "id": "432b7aa9",
   "metadata": {},
   "source": [
    "Main optimization script."
   ]
  },
  {
   "cell_type": "code",
   "execution_count": 14,
   "id": "e0965a25",
   "metadata": {},
   "outputs": [
    {
     "name": "stderr",
     "output_type": "stream",
     "text": [
      "100%|███████████████████████████████████████████████████████████████████████████| 25000/25000 [00:30<00:00, 824.30it/s]"
     ]
    },
    {
     "name": "stdout",
     "output_type": "stream",
     "text": [
      "3956\n"
     ]
    },
    {
     "name": "stderr",
     "output_type": "stream",
     "text": [
      "\n"
     ]
    }
   ],
   "source": [
    "iterations_number = 25000\n",
    "\n",
    "result_image = Image.new('RGB', (Target_image.shape[1], Target_image.shape[0]))\n",
    "image_wight, image_height = Target_image.shape[1], Target_image.shape[0]\n",
    "\n",
    "current_loss = np.sum( (Target_image - np.array(result_image))**2 )\n",
    "\n",
    "number_of_lines = 0\n",
    "\n",
    "for i in tqdm(range(iterations_number)):\n",
    "\n",
    "    tmp_image = draw_random_line(result_image, image_wight, image_height)\n",
    "    tmp_loss = np.sum( (Target_image - tmp_image)**2 )\n",
    "    if (tmp_loss < current_loss):\n",
    "        current_loss = tmp_loss\n",
    "        result_image = tmp_image\n",
    "        number_of_lines += 1\n",
    "print(number_of_lines)"
   ]
  },
  {
   "cell_type": "markdown",
   "id": "4898688e",
   "metadata": {},
   "source": [
    "And here is a result."
   ]
  },
  {
   "cell_type": "code",
   "execution_count": 15,
   "id": "89d7cdd9",
   "metadata": {},
   "outputs": [
    {
     "data": {
      "image/png": "[encoded data removed]",
      "text/plain": [
       "<PIL.Image.Image image mode=RGB size=450x200 at 0x2C379FE5AF0>"
      ]
     },
     "execution_count": 15,
     "metadata": {},
     "output_type": "execute_result"
    }
   ],
   "source": [
    "result_image"
   ]
  },
  {
   "cell_type": "markdown",
   "id": "ebe9e87b",
   "metadata": {},
   "source": [
    "## Creating demo of the process\n",
    "Check a project folder for video"
   ]
  },
  {
   "cell_type": "code",
   "execution_count": 24,
   "id": "2803413e",
   "metadata": {},
   "outputs": [
    {
     "name": "stderr",
     "output_type": "stream",
     "text": [
      "100%|███████████████████████████████████████████████████████████████████████████| 20000/20000 [00:30<00:00, 666.27it/s]\n"
     ]
    }
   ],
   "source": [
    "import os\n",
    "import shutil\n",
    "import cv2 as cv\n",
    "\n",
    "iterations_number = 20000\n",
    "out = cv.VideoWriter('project.avi',cv.VideoWriter_fourcc(*'DIVX'), 30, (Target_image.shape[1], Target_image.shape[0]))\n",
    "\n",
    "\n",
    "result_image = Image.new('RGB', (Target_image.shape[1], Target_image.shape[0]))\n",
    "image_wight, image_height = Target_image.shape[1], Target_image.shape[0]\n",
    "\n",
    "current_loss = np.sum( (Target_image - np.array(result_image))**2 )\n",
    "\n",
    "number_of_lines = 0\n",
    "\n",
    "for i in tqdm(range(iterations_number)):\n",
    "    if (i % 50 == 0) or (i < 150):\n",
    "        #filename = 'img_'+'0'*(9 - len(str(i))) + str(i) + '.jpg'\n",
    "        result_image.save('tmp.png')\n",
    "        out.write(cv.imread('tmp.png'))\n",
    "        \n",
    "    tmp_image = draw_random_line(result_image, image_wight, image_height)\n",
    "    tmp_loss = np.sum( (Target_image - tmp_image)**2 )\n",
    "    if (tmp_loss < current_loss):\n",
    "        current_loss = tmp_loss\n",
    "        result_image = tmp_image\n",
    "        number_of_lines += 1\n",
    "out.release()"
   ]
  },
  {
   "cell_type": "code",
   "execution_count": null,
   "id": "71ece8c9",
   "metadata": {},
   "outputs": [],
   "source": []
  }
 ],
 "metadata": {
  "kernelspec": {
   "display_name": "Python 3 (ipykernel)",
   "language": "python",
   "name": "python3"
  },
  "language_info": {
   "codemirror_mode": {
    "name": "ipython",
    "version": 3
   },
   "file_extension": ".py",
   "mimetype": "text/x-python",
   "name": "python",
   "nbconvert_exporter": "python",
   "pygments_lexer": "ipython3",
   "version": "3.8.12"
  }
 },
 "nbformat": 4,
 "nbformat_minor": 5
}
